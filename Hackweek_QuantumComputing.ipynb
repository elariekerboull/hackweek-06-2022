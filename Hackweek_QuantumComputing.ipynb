{
 "cells": [
  {
   "cell_type": "markdown",
   "id": "8adf6e95-18c7-4721-a901-61dcc66d4337",
   "metadata": {},
   "source": [
    "# Introduction\n",
    "Some intro to write here\n",
    "\n",
    "Ideas to express\n",
    "\n",
    "Quantum Mechanics : probabilistic, odd phenomenons, superposition (Schrödinger's cat?), linear algebra\n",
    "Limits of classical computing\n",
    "The avent of quantum computing\n",
    "Existing technologies to date\n",
    "IBM online solution\n",
    "Quantum computer simulations"
   ]
  },
  {
   "cell_type": "markdown",
   "id": "e1efebc3-662b-44c6-87d9-f2621d714ac2",
   "metadata": {},
   "source": [
    "In our case, we will use the cirq emulator which uses Python"
   ]
  },
  {
   "cell_type": "code",
   "execution_count": 1,
   "id": "0d707e0d",
   "metadata": {},
   "outputs": [],
   "source": [
    "import cirq "
   ]
  },
  {
   "cell_type": "markdown",
   "id": "3f5a30bc-2db6-421f-92d8-d249fcaad04d",
   "metadata": {},
   "source": [
    "Let us start with a very basic circuit"
   ]
  },
  {
   "cell_type": "code",
   "execution_count": 2,
   "id": "ed2d01c1",
   "metadata": {},
   "outputs": [],
   "source": [
    "# Pick a qubit.\n",
    "qubit = cirq.GridQubit(0, 0)\n",
    "# Create a circuit      \n",
    "circuit = cirq.Circuit(\n",
    "    cirq.X(qubit)**0.5,  # Square root of NOT.\n",
    "    cirq.measure(qubit, key='m')  # Measurement.\n",
    ") "
   ]
  },
  {
   "cell_type": "code",
   "execution_count": 3,
   "id": "4840530d",
   "metadata": {},
   "outputs": [
    {
     "name": "stdout",
     "output_type": "stream",
     "text": [
      "Circuit:\n",
      "(0, 0): ───X^0.5───M('m')───\n"
     ]
    }
   ],
   "source": [
    "print(\"Circuit:\")       \n",
    "print(circuit)  "
   ]
  },
  {
   "cell_type": "code",
   "execution_count": 4,
   "id": "5bf970bd-1ced-4019-8146-3cdaaedc3d88",
   "metadata": {},
   "outputs": [
    {
     "name": "stdout",
     "output_type": "stream",
     "text": [
      "Results:\n",
      "m=11101101010101010101\n"
     ]
    }
   ],
   "source": [
    "# Simulate the circuit several times.\n",
    "simulator = cirq.Simulator()     \n",
    "result = simulator.run(circuit, repetitions=20)     \n",
    "print(\"Results:\")                              \n",
    "print(result)"
   ]
  },
  {
   "cell_type": "markdown",
   "id": "7e11b076-1d25-4d94-964a-2d0b7fb76694",
   "metadata": {},
   "source": [
    "Let us check the probabilistic nature of the outputs."
   ]
  },
  {
   "cell_type": "code",
   "execution_count": 36,
   "id": "c5ebfeca-20b0-4868-b6dd-371874a84d45",
   "metadata": {},
   "outputs": [
    {
     "name": "stdout",
     "output_type": "stream",
     "text": [
      "Circuit:\n",
      "(0, 0): ───H───M('m')───\n",
      "Results:\n",
      "m=11101011111100001000101100111011000111110001101110\n"
     ]
    }
   ],
   "source": [
    "qubit = cirq.GridQubit(0, 0)\n",
    "# Create a circuit      \n",
    "circuit = cirq.Circuit(\n",
    "    cirq.H(qubit), \n",
    "    cirq.measure(qubit, key='m')  # Measurement.\n",
    ")\n",
    "print(\"Circuit:\")\n",
    "print(circuit)\n",
    "\n",
    "# Simulate the circuit several times.\n",
    "simulator = cirq.Simulator()\n",
    "result = simulator.run(circuit, repetitions=iteration_number)\n",
    "print(\"Results:\")\n",
    "print(result)\n"
   ]
  },
  {
   "cell_type": "markdown",
   "id": "f218e2c3-fadf-4d0b-9cd2-9ab338124736",
   "metadata": {},
   "source": [
    "Since qubits are initialized as 0, we need to add a Hadamard gate to introduce a superposed state with a probabilistic outcome. \n",
    "\n",
    "The measured value has a 50/50 chance of being either 0 or 1."
   ]
  },
  {
   "cell_type": "markdown",
   "id": "fb61e9c9-698a-4c9f-aac4-e33f3059c49c",
   "metadata": {},
   "source": [
    "A number of gates are available for use, and are represented as matrices. Let us print a few of them to see what they correspond to."
   ]
  },
  {
   "cell_type": "code",
   "execution_count": 16,
   "id": "93f94f79-6d78-4298-8f77-a26370b740fa",
   "metadata": {},
   "outputs": [
    {
     "name": "stdout",
     "output_type": "stream",
     "text": [
      "X\n",
      "[[0.+0.j 1.+0.j]\n",
      " [1.+0.j 0.+0.j]]\n",
      "Y\n",
      "[[0.+0.j 0.-1.j]\n",
      " [0.+1.j 0.+0.j]]\n",
      "Z\n",
      "[[ 1.+0.j  0.+0.j]\n",
      " [ 0.+0.j -1.+0.j]]\n",
      "S\n",
      "[[1.+0.j 0.+0.j]\n",
      " [0.+0.j 0.+1.j]]\n",
      "H\n",
      "[[ 0.70710678+0.j  0.70710678+0.j]\n",
      " [ 0.70710678+0.j -0.70710678+0.j]]\n",
      "CNOT\n",
      "[[1.+0.j 0.+0.j 0.+0.j 0.+0.j]\n",
      " [0.+0.j 1.+0.j 0.+0.j 0.+0.j]\n",
      " [0.+0.j 0.+0.j 0.+0.j 1.+0.j]\n",
      " [0.+0.j 0.+0.j 1.+0.j 0.+0.j]]\n",
      "CNOT**-1.0\n",
      "[[1.+0.j 0.+0.j 0.+0.j 0.+0.j]\n",
      " [0.+0.j 1.+0.j 0.+0.j 0.+0.j]\n",
      " [0.+0.j 0.+0.j 0.+0.j 1.+0.j]\n",
      " [0.+0.j 0.+0.j 1.+0.j 0.+0.j]]\n",
      "SWAP\n",
      "[[1.+0.j 0.+0.j 0.+0.j 0.+0.j]\n",
      " [0.+0.j 0.+0.j 1.+0.j 0.+0.j]\n",
      " [0.+0.j 1.+0.j 0.+0.j 0.+0.j]\n",
      " [0.+0.j 0.+0.j 0.+0.j 1.+0.j]]\n",
      "TOFFOLI\n",
      "[[1.+0.j 0.+0.j 0.+0.j 0.+0.j 0.+0.j 0.+0.j 0.+0.j 0.+0.j]\n",
      " [0.+0.j 1.+0.j 0.+0.j 0.+0.j 0.+0.j 0.+0.j 0.+0.j 0.+0.j]\n",
      " [0.+0.j 0.+0.j 1.+0.j 0.+0.j 0.+0.j 0.+0.j 0.+0.j 0.+0.j]\n",
      " [0.+0.j 0.+0.j 0.+0.j 1.+0.j 0.+0.j 0.+0.j 0.+0.j 0.+0.j]\n",
      " [0.+0.j 0.+0.j 0.+0.j 0.+0.j 1.+0.j 0.+0.j 0.+0.j 0.+0.j]\n",
      " [0.+0.j 0.+0.j 0.+0.j 0.+0.j 0.+0.j 1.+0.j 0.+0.j 0.+0.j]\n",
      " [0.+0.j 0.+0.j 0.+0.j 0.+0.j 0.+0.j 0.+0.j 0.+0.j 1.+0.j]\n",
      " [0.+0.j 0.+0.j 0.+0.j 0.+0.j 0.+0.j 0.+0.j 1.+0.j 0.+0.j]]\n"
     ]
    }
   ],
   "source": [
    "print(\"Not Gate\")\n",
    "print(cirq.X)\n",
    "print(cirq.unitary(cirq.X))\n",
    "\n",
    "print(cirq.Y)\n",
    "print(cirq.unitary(cirq.Y))\n",
    "\n",
    "print(cirq.Z)\n",
    "print(cirq.unitary(cirq.Z))\n",
    "\n",
    "print(cirq.S)\n",
    "print(cirq.unitary(cirq.S))\n",
    "\n",
    "print(\"Hadamard Gate\")\n",
    "print(cirq.H)\n",
    "print(cirq.unitary(cirq.H))\n",
    "\n",
    "print(cirq.CNOT)\n",
    "print(cirq.unitary(cirq.CNOT))\n",
    "\n",
    "print(cirq.CNOT**-1)\n",
    "print(cirq.unitary(cirq.CNOT**-1))\n",
    "\n",
    "print(cirq.SWAP)\n",
    "print(cirq.unitary(cirq.SWAP))\n",
    "\n",
    "print(cirq.CCNOT)\n",
    "print(cirq.unitary(cirq.CCNOT))"
   ]
  },
  {
   "cell_type": "markdown",
   "id": "f4090dab-5209-4f4e-a578-3c5b11f74b9f",
   "metadata": {},
   "source": [
    "### CNOT gate truth table\n",
    "\n",
    "\n",
    "| a IN | b IN | a OUT | b OUT |\n",
    "| :-: | :-: | :-: | :-: |\n",
    "| 0 | 0 | 0 | 0 |\n",
    "| 0 | 1 | 0 | 1 |\n",
    "| 1 | 0 | 1 | 1 |\n",
    "| 1 | 1 | 1 | 0 |"
   ]
  },
  {
   "cell_type": "markdown",
   "id": "73644885-8962-4d52-8879-d90f7a7cae97",
   "metadata": {},
   "source": [
    "### TOFFOLI gate truth table\n",
    "\n",
    "\n",
    "| a IN | b IN | c IN | a OUT | b OUT | c OUT |\n",
    "| :-: | :-: | :-: | :-: | :-: | :-: |\n",
    "| 0 | 0 | 0 | 0 | 0 | 0 | \n",
    "| 0 | 0 | 1 | 0 | 0 | 1 |\n",
    "| 0 | 1 | 0 | 0 | 1 | 0 |\n",
    "| 0 | 1 | 1 | 0 | 1 | 1 |\n",
    "| 1 | 0 | 0 | 1 | 0 | 0 |\n",
    "| 1 | 0 | 1 | 1 | 0 | 1 |\n",
    "| 1 | 1 | 0 | 1 | 1 | 1 |\n",
    "| 1 | 1 | 1 | 1 | 1 | 0 |"
   ]
  },
  {
   "cell_type": "code",
   "execution_count": 5,
   "id": "2188c499-5c7c-498c-8f7a-098b57d371a0",
   "metadata": {},
   "outputs": [],
   "source": [
    "def print_qubit_result(simulation_result, qid):\n",
    "  measured_00s = 0\n",
    "  measured_01s = 0\n",
    "  measured_10s = 0\n",
    "  measured_11s = 0\n",
    "#  for key in simulation_result.measurements:\n",
    "#    print(key)\n",
    "#    print(simulation_result.measurements[key].size)\n",
    "  for i in range(simulation_result.measurements['1'].size):\n",
    "#  for basis_state in simulation_result.measurements['1']:\n",
    "    if simulation_result.measurements['1'][i] == 0 and simulation_result.measurements['2'][i] == 0:\n",
    "      measured_00s += 1\n",
    "    if simulation_result.measurements['1'][i] == 0 and simulation_result.measurements['2'][i] == 1:\n",
    "      measured_01s += 1\n",
    "    if simulation_result.measurements['1'][i] == 1 and simulation_result.measurements['2'][i] == 0:\n",
    "      measured_10s += 1\n",
    "    if simulation_result.measurements['1'][i] == 1 and simulation_result.measurements['2'][i] == 1:\n",
    "      measured_11s += 1\n",
    "    measured_00_probability = \\\n",
    "      100 * measured_00s / (measured_00s + measured_01s + measured_10s + measured_11s)\n",
    "    measured_01_probability = \\\n",
    "      100 * measured_01s / (measured_00s + measured_01s + measured_10s + measured_11s)\n",
    "    measured_10_probability = \\\n",
    "      100 * measured_10s / (measured_00s + measured_01s + measured_10s + measured_11s)\n",
    "    measured_11_probability = \\\n",
    "      100 * measured_11s / (measured_00s + measured_01s + measured_10s + measured_11s)\n",
    "  print(\" probability distribution: \" +\n",
    "          \"00 = \" +\n",
    "          str(measured_00_probability) + \"%, \" +\n",
    "          \"01 = \" +\n",
    "          str(measured_01_probability) + \"%, \"  +\n",
    "          \"10 = \" +\n",
    "          str(measured_10_probability) + \"%, \"  +\n",
    "          \"11 = \" +\n",
    "          str(measured_11_probability) + \"%\")\n"
   ]
  },
  {
   "cell_type": "markdown",
   "id": "8587cc11-c3cd-4039-b646-9127b9cfba4f",
   "metadata": {},
   "source": [
    "#### Grover algorithm using an implementation of TOFFOLI gate\n",
    "\n",
    "https://jonathan-hui.medium.com/qc-grovers-algoritwehm-cd81e61cf248\n",
    "\n",
    "Grover algorithm is used to find the outputs satisfying the conditions of a black box (called Oracle)\n",
    "Instead of classical complexity O(n), we get a complexity O($\\sqrt(n)$)"
   ]
  },
  {
   "cell_type": "code",
   "execution_count": 7,
   "id": "34f15671-161b-4cdd-8e8d-097ac5b448f4",
   "metadata": {},
   "outputs": [
    {
     "name": "stdout",
     "output_type": "stream",
     "text": [
      "T**-1\n",
      "[[1.        +0.j         0.        +0.j        ]\n",
      " [0.        +0.j         0.70710678-0.70710678j]]\n",
      "T\n",
      "[[1.        +0.j         0.        +0.j        ]\n",
      " [0.        +0.j         0.70710678+0.70710678j]]\n",
      "Circuit:\n",
      "0: ───X───H───H───X───T^-1───X───T───X───T^-1───X───T───H──────────────────────────────────────────────\n",
      "                  │          │       │          │\n",
      "1: ───H───────────@──────────┼───────@───T^-1───┼───X───T^-1───X───S───H───X───H───X───H───X───H───M───\n",
      "                             │                  │   │          │                   │\n",
      "2: ───H──────────────────────@──────────────────@───@──────────@───T───H───X───────@───X───H───M───────\n",
      "Results:\n",
      "1=1111111111111111111111111111111111111111111111111111111111111111111111111111111111111111111111111111\n",
      "2=1111111111111111111111111111111111111111111111111111111111111111111111111111111111111111111111111111\n",
      " probability distribution: 00 = 0.0%, 01 = 0.0%, 10 = 0.0%, 11 = 100.0%\n"
     ]
    }
   ],
   "source": [
    "# Pick a qubit.\n",
    "qubits = cirq.LineQubit.range(5)\n",
    "\n",
    "iteration_number = 100\n",
    "\n",
    "# Create a circuit\n",
    "circuit = cirq.Circuit(\n",
    "\tcirq.X(qubits[0]),\n",
    "\tcirq.H(qubits[1]),\n",
    "\tcirq.H(qubits[2])\n",
    ")\n",
    "\n",
    "hermitian_T_gate = cirq.inverse(cirq.Z**0.25) #cirq.Z**0.25 = T gate\n",
    "print(hermitian_T_gate)\n",
    "print(cirq.unitary(hermitian_T_gate))\n",
    "\n",
    "print(cirq.T)\n",
    "print(cirq.unitary(cirq.T))\n",
    "\n",
    "#print(cirq.unitary(cirq.T**-1))\n",
    "\n",
    "#print(cirq.unitary(cirq.T**-1))\n",
    "\n",
    "circuit.append(cirq.H(qubits[0]))\n",
    "\n",
    "circuit.append(cirq.H(qubits[0]))\n",
    "\n",
    "circuit.append(cirq.CNOT(qubits[1],qubits[0]))\n",
    "\n",
    "circuit.append(hermitian_T_gate(qubits[0]))\n",
    "\n",
    "circuit.append(cirq.CNOT(qubits[2],qubits[0]))\n",
    "\n",
    "circuit.append(cirq.T(qubits[0]))\n",
    "\n",
    "circuit.append(cirq.CNOT(qubits[1],qubits[0]))\n",
    "\n",
    "circuit.append(hermitian_T_gate(qubits[0]))\n",
    "\n",
    "circuit.append(cirq.CNOT(qubits[2],qubits[0]))\n",
    "\n",
    "circuit.append(cirq.T(qubits[0]))\n",
    "circuit.append(hermitian_T_gate(qubits[1]))\n",
    "\n",
    "circuit.append(cirq.H(qubits[0]))\n",
    "circuit.append(cirq.CNOT(qubits[2],qubits[1]))\n",
    "\n",
    "circuit.append(hermitian_T_gate(qubits[1]))\n",
    "\n",
    "circuit.append(cirq.CNOT(qubits[2],qubits[1]))\n",
    "\n",
    "circuit.append(cirq.S(qubits[1]))\n",
    "circuit.append(cirq.T(qubits[2]))\n",
    "\n",
    "circuit.append(cirq.H(qubits[1]))\n",
    "circuit.append(cirq.H(qubits[2]))\n",
    "\n",
    "circuit.append(cirq.X(qubits[1]))\n",
    "circuit.append(cirq.X(qubits[2]))\n",
    "\n",
    "circuit.append(cirq.H(qubits[1]))\n",
    "\n",
    "circuit.append(cirq.CNOT(qubits[2],qubits[1]))\n",
    "\n",
    "circuit.append(cirq.H(qubits[1]))\n",
    "\n",
    "circuit.append(cirq.X(qubits[1]))\n",
    "circuit.append(cirq.X(qubits[2]))\n",
    "\n",
    "circuit.append(cirq.H(qubits[1]))\n",
    "circuit.append(cirq.H(qubits[2]))\n",
    "\n",
    "circuit.append(cirq.measure(qubits[1]))\n",
    "circuit.append(cirq.measure(qubits[2]))\n",
    "\n",
    "\n",
    "print(\"Circuit:\")\n",
    "print(circuit)\n",
    "\n",
    "# Simulate the circuit several times.\n",
    "simulator = cirq.Simulator()\n",
    "result = simulator.run(circuit, repetitions=iteration_number)\n",
    "print(\"Results:\")\n",
    "print(result)\n",
    "print_qubit_result(result,0)"
   ]
  },
  {
   "cell_type": "markdown",
   "id": "9ec59616-6ca0-42f7-b857-0ebb0177d3e9",
   "metadata": {},
   "source": [
    "Grover with 00 output"
   ]
  },
  {
   "cell_type": "code",
   "execution_count": 14,
   "id": "18dc4698-920e-4b65-8d76-5c745aa4ad74",
   "metadata": {},
   "outputs": [
    {
     "name": "stdout",
     "output_type": "stream",
     "text": [
      "Circuit:\n",
      "1: ───H───S───────@───S───H───X───────────@───X───H───M───────\n",
      "                  │                       │\n",
      "2: ───H───S───H───X───H───S───H───X───H───X───H───X───H───M───\n",
      "Results:\n",
      "1=0000000000000000000000000000000000000000000000000000000000000000000000000000000000000000000000000000\n",
      "2=0000000000000000000000000000000000000000000000000000000000000000000000000000000000000000000000000000\n",
      " probability distribution: 00 = 100.0%, 01 = 0.0%, 10 = 0.0%, 11 = 0.0%\n"
     ]
    }
   ],
   "source": [
    "# Pick a qubit.\n",
    "qubits = cirq.LineQubit.range(5)\n",
    "\n",
    "# Create a circuit\n",
    "circuit = cirq.Circuit(\n",
    "\tcirq.H(qubits[1]),\n",
    "\tcirq.H(qubits[2])\n",
    ")\n",
    "\n",
    "hermitian_T_gate = cirq.inverse(cirq.Z**0.25) #cirq.Z**0.25 = T gate\n",
    "\n",
    "circuit.append(cirq.S(qubits[1]))\n",
    "circuit.append(cirq.S(qubits[2]))\n",
    "\n",
    "circuit.append(cirq.H(qubits[2]))\n",
    "\n",
    "circuit.append(cirq.CNOT(qubits[1],qubits[2]))\n",
    "\n",
    "circuit.append(cirq.H(qubits[2]))\n",
    "\n",
    "circuit.append(cirq.S(qubits[1]))\n",
    "circuit.append(cirq.S(qubits[2]))\n",
    "\n",
    "circuit.append(cirq.H(qubits[1]))\n",
    "circuit.append(cirq.H(qubits[2]))\n",
    "\n",
    "circuit.append(cirq.X(qubits[1]))\n",
    "circuit.append(cirq.X(qubits[2]))\n",
    "\n",
    "circuit.append(cirq.H(qubits[2]))\n",
    "\n",
    "circuit.append(cirq.CNOT(qubits[1],qubits[2]))\n",
    "\n",
    "circuit.append(cirq.H(qubits[2]))\n",
    "\n",
    "circuit.append(cirq.X(qubits[1]))\n",
    "circuit.append(cirq.X(qubits[2]))\n",
    "\n",
    "circuit.append(cirq.H(qubits[1]))\n",
    "circuit.append(cirq.H(qubits[2]))\n",
    "\n",
    "circuit.append(cirq.measure(qubits[1]))\n",
    "circuit.append(cirq.measure(qubits[2]))\n",
    "\n",
    "\n",
    "print(\"Circuit:\")\n",
    "print(circuit)\n",
    "\n",
    "# Simulate the circuit several times.\n",
    "simulator = cirq.Simulator()\n",
    "result = simulator.run(circuit, repetitions=100)\n",
    "print(\"Results:\")\n",
    "print(result)\n",
    "#print(result.type())\n",
    "print_qubit_result(result,0)"
   ]
  },
  {
   "cell_type": "markdown",
   "id": "87de4272-7663-4ffe-9f81-64daf1fa423f",
   "metadata": {},
   "source": [
    "## QKD\n",
    "\n",
    "An algorithm to exchange a key securely (i.e. noticing if someone eavedrops)"
   ]
  },
  {
   "cell_type": "code",
   "execution_count": 19,
   "id": "960d5e80-cc20-48c0-b5e2-d34460e6dd6f",
   "metadata": {},
   "outputs": [],
   "source": [
    "def print_qkd_result(simulation_result):\n",
    "  stringA = \"\"\n",
    "  stringB = \"\"\n",
    "#  for key in simulation_result.measurements:\n",
    "#    print(key)\n",
    "#    print(simulation_result.measurements[key].size)\n",
    "  for i in range(simulation_result.measurements['1'].size):\n",
    "#  for basis_state in simulation_result.measurements['1']:\n",
    "    if simulation_result.measurements['1'][i] == simulation_result.measurements['2'][i]:\n",
    "      stringA += str(simulation_result.measurements['0'][i])\n",
    "      stringB += str(simulation_result.measurements['3'][i])\n",
    "  print(\" Key A \" + stringA +\n",
    "          \"\\n Key B \" + stringB)"
   ]
  },
  {
   "cell_type": "code",
   "execution_count": 25,
   "id": "d1ede4d1-8a0c-4177-855a-a6da183da600",
   "metadata": {},
   "outputs": [
    {
     "name": "stdout",
     "output_type": "stream",
     "text": [
      "Circuit:\n",
      "0: ───H───@───M───────────\n",
      "          │\n",
      "1: ───H───┼───@───M───────\n",
      "          │   │\n",
      "2: ───H───┼───┼───@───M───\n",
      "          │   │   │\n",
      "3: ───────X───H───H───M───\n",
      "Results:\n",
      "0=10000111011101111011100111111011011001100011011001\n",
      "1=00010110110001011000111010110110011100011010110100\n",
      "2=10010011110111000101000011100011110101000011110001\n",
      "3=10000010011101101010100111101111010000100010011101\n",
      " Key A [0][0][0][0][1][0][1][1][1][1][1][1][1][1][1][1][1][0][0][1][0][1][0][1][1][0]\n",
      " Key B [0][0][0][0][1][0][1][1][1][1][1][1][1][1][1][1][1][0][0][1][0][1][0][1][1][0]\n"
     ]
    }
   ],
   "source": [
    "# Pick a qubit.\n",
    "qubits = cirq.LineQubit.range(4)\n",
    "\n",
    "iteration_number = 50\n",
    "\n",
    "# Create a circuit\n",
    "circuit = cirq.Circuit(\n",
    "\t# 3 random values\n",
    "\tcirq.H(qubits[0]), # a\n",
    "\tcirq.H(qubits[1]), # b\n",
    "\tcirq.H(qubits[2]) # c\n",
    ")\n",
    "\n",
    "circuit.append(cirq.X(qubits[3]).controlled_by(qubits[0])) # Same as CNOT but implemented that way for clarity\n",
    "\n",
    "circuit.append(cirq.H(qubits[3]).controlled_by(qubits[1]))\n",
    "\n",
    "circuit.append(cirq.H(qubits[3]).controlled_by(qubits[2]))\n",
    "\n",
    "circuit.append(cirq.measure(qubits[0])) # Optional\n",
    "circuit.append(cirq.measure(qubits[1]))\n",
    "circuit.append(cirq.measure(qubits[2]))\n",
    "circuit.append(cirq.measure(qubits[3]))\n",
    "\n",
    "\n",
    "print(\"Circuit:\")\n",
    "print(circuit)\n",
    "\n",
    "# Simulate the circuit several times.\n",
    "simulator = cirq.Simulator()\n",
    "result = simulator.run(circuit, repetitions=iteration_number)\n",
    "print(\"Results:\")\n",
    "print(result)\n",
    "\n",
    "print_qkd_result(result)"
   ]
  },
  {
   "cell_type": "markdown",
   "id": "bc35854e-ea96-443b-a38e-1d314baf33a3",
   "metadata": {},
   "source": [
    "### Spied version"
   ]
  },
  {
   "cell_type": "code",
   "execution_count": 27,
   "id": "0818c4b1-4c93-431a-96a2-d3c6e9158bbe",
   "metadata": {},
   "outputs": [],
   "source": [
    "def print_qkd_spied(simulation_result):\n",
    "  measured_00s = 0\n",
    "  measured_01s = 0\n",
    "  measured_10s = 0\n",
    "  measured_11s = 0\n",
    "  stringA = \"\"\n",
    "  stringB = \"\"\n",
    "  stringSpy = \"\"\n",
    "#  for key in simulation_result.measurements:\n",
    "#    print(key)\n",
    "#    print(simulation_result.measurements[key].size)\n",
    "  for i in range(simulation_result.measurements['1'].size):\n",
    "#  for basis_state in simulation_result.measurements['1']:\n",
    "    if simulation_result.measurements['1'][i] == simulation_result.measurements['2'][i]:\n",
    "      stringA += str(simulation_result.measurements['0'][i])\n",
    "      stringB += str(simulation_result.measurements['3'][i])\n",
    "      stringSpy += str(simulation_result.measurements['4'][i])\n",
    "  print(\" Key A \" + stringA +\n",
    "          \"\\n Key B \" + stringB +\n",
    "          \"\\n Key S \" + stringSpy)"
   ]
  },
  {
   "cell_type": "code",
   "execution_count": 28,
   "id": "f939f30d-8581-4864-9dd3-25978b87c88b",
   "metadata": {},
   "outputs": [
    {
     "name": "stdout",
     "output_type": "stream",
     "text": [
      "Circuit:\n",
      "0: ───H───@───M────────────────────\n",
      "          │\n",
      "1: ───H───┼───@───M────────────────\n",
      "          │   │\n",
      "2: ───H───┼───┼────────────@───M───\n",
      "          │   │            │\n",
      "3: ───────X───H───M('4')───H───M───\n",
      "Results:\n",
      "0=11000010101001000101101110100110110100011001100011\n",
      "1=10111111001000101111100001001100110110000111110011\n",
      "2=11011001100001101110011011101000110011001010001111\n",
      "3=10111011100001101101101100000110010110010101100110\n",
      "4=01111010100001100011101110100110010100011101100011\n",
      " Key A [1][0][0][0][0][0][0][0][0][0][1][0][1][0][0][0][1][0][1][1][0][0][0][1][0][1][1]\n",
      " Key B [1][1][1][1][0][0][0][1][0][1][1][0][1][0][0][0][1][0][0][1][0][1][0][1][0][1][0]\n",
      " Key S [0][1][1][0][0][0][0][1][0][0][0][1][1][0][0][0][1][0][0][1][0][0][0][1][0][1][1]\n"
     ]
    }
   ],
   "source": [
    "# Pick a qubit.\n",
    "qubits = cirq.LineQubit.range(5)\n",
    "\n",
    "iteration_number = 50\n",
    "\n",
    "# Create a circuit\n",
    "circuit = cirq.Circuit(\n",
    "\t# 3 random values\n",
    "\tcirq.H(qubits[0]), # a\n",
    "\tcirq.H(qubits[1]), # b\n",
    "\tcirq.H(qubits[2]) # c\n",
    ")\n",
    "\n",
    "circuit.append(cirq.X(qubits[3]).controlled_by(qubits[0])) # Same as CNOT but implemented that way for clarity\n",
    "\n",
    "circuit.append(cirq.H(qubits[3]).controlled_by(qubits[1]))\n",
    "\n",
    "# Spying\n",
    "#circuit.append(cirq.CNOT(qubits[3],qubits[4]))\n",
    "#circuit.append(cirq.X(qubits[4]))\n",
    "circuit.append(cirq.measure(qubits[3], key = '4'))\n",
    "#circuit.append(cirq.H(qubits[4]))\n",
    "\n",
    "circuit.append(cirq.H(qubits[3]).controlled_by(qubits[2]))\n",
    "\n",
    "circuit.append(cirq.measure(qubits[0])) # Optional\n",
    "circuit.append(cirq.measure(qubits[1]))\n",
    "circuit.append(cirq.measure(qubits[2]))\n",
    "circuit.append(cirq.measure(qubits[3]))\n",
    "\n",
    "print(\"Circuit:\")\n",
    "print(circuit)\n",
    "\n",
    "# Simulate the circuit several times.\n",
    "simulator = cirq.Simulator()\n",
    "result = simulator.run(circuit, repetitions=iteration_number)\n",
    "print(\"Results:\")\n",
    "print(result)\n",
    "\n",
    "print_qkd_spied(result)"
   ]
  },
  {
   "cell_type": "markdown",
   "id": "e3a51405-8283-43ee-bec9-5c81be3627c4",
   "metadata": {},
   "source": [
    "When spying, the two main keys differ very quickly, making the eavesdrop very obvious if A and B decided to check a random part of the key.\n",
    "Additionally, the obtained spied key is nowhere similar to the expected outcome."
   ]
  },
  {
   "cell_type": "markdown",
   "id": "e48d8ff5-f4c8-4862-a3da-c70f3acdd9ce",
   "metadata": {},
   "source": [
    "## Shor Algorithm\n",
    "\n",
    "This algorithm is used to find the two prime numbers that fatorise a semi-prime number.\n",
    "This factorisation is key to several encryption algorithms nowadays, algorithms which rely on the O(n) complexity to crack the associated hash to be secure.\n",
    "This algorithm would solve this in a complexity O(log(n)) theoretically rendering those encryption algorithms next to useless.\n",
    "In practice current Quantum Computers do not have as of yet enough computational power and precision to be any close to being a threat, as the current record of factorisation using this algorithm on an actual quantum computer is $21 = 3 * 7$."
   ]
  },
  {
   "cell_type": "code",
   "execution_count": null,
   "id": "7e691770-54ba-443c-8fed-051c90b58802",
   "metadata": {},
   "outputs": [],
   "source": []
  }
 ],
 "metadata": {
  "kernelspec": {
   "display_name": "Python 3",
   "language": "python",
   "name": "python3"
  },
  "language_info": {
   "codemirror_mode": {
    "name": "ipython",
    "version": 3
   },
   "file_extension": ".py",
   "mimetype": "text/x-python",
   "name": "python",
   "nbconvert_exporter": "python",
   "pygments_lexer": "ipython3",
   "version": "3.8.5"
  }
 },
 "nbformat": 4,
 "nbformat_minor": 5
}
